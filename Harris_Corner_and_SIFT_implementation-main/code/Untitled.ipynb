{
 "cells": [
  {
   "cell_type": "code",
   "execution_count": 20,
   "metadata": {},
   "outputs": [],
   "source": [
    "import numpy as np\n",
    "a = list(range(10))\n",
    "dummy = np.stack((a,a,a,a,a,a,a,a,a,a),axis=1)"
   ]
  },
  {
   "cell_type": "code",
   "execution_count": 21,
   "metadata": {},
   "outputs": [
    {
     "data": {
      "text/plain": [
       "array([[0, 0, 0, 0, 0, 0, 0, 0, 0, 0],\n",
       "       [1, 1, 1, 1, 1, 1, 1, 1, 1, 1],\n",
       "       [2, 2, 2, 2, 2, 2, 2, 2, 2, 2],\n",
       "       [3, 3, 3, 3, 3, 3, 3, 3, 3, 3],\n",
       "       [4, 4, 4, 4, 4, 4, 4, 4, 4, 4],\n",
       "       [5, 5, 5, 5, 5, 5, 5, 5, 5, 5],\n",
       "       [6, 6, 6, 6, 6, 6, 6, 6, 6, 6],\n",
       "       [7, 7, 7, 7, 7, 7, 7, 7, 7, 7],\n",
       "       [8, 8, 8, 8, 8, 8, 8, 8, 8, 8],\n",
       "       [9, 9, 9, 9, 9, 9, 9, 9, 9, 9]])"
      ]
     },
     "execution_count": 21,
     "metadata": {},
     "output_type": "execute_result"
    }
   ],
   "source": [
    "dummy"
   ]
  },
  {
   "cell_type": "code",
   "execution_count": 22,
   "metadata": {},
   "outputs": [],
   "source": [
    "dummy1 = dummy.T"
   ]
  },
  {
   "cell_type": "code",
   "execution_count": 23,
   "metadata": {},
   "outputs": [
    {
     "data": {
      "text/plain": [
       "array([[0, 1, 2, 3, 4, 5, 6, 7, 8, 9],\n",
       "       [0, 1, 2, 3, 4, 5, 6, 7, 8, 9],\n",
       "       [0, 1, 2, 3, 4, 5, 6, 7, 8, 9],\n",
       "       [0, 1, 2, 3, 4, 5, 6, 7, 8, 9],\n",
       "       [0, 1, 2, 3, 4, 5, 6, 7, 8, 9],\n",
       "       [0, 1, 2, 3, 4, 5, 6, 7, 8, 9],\n",
       "       [0, 1, 2, 3, 4, 5, 6, 7, 8, 9],\n",
       "       [0, 1, 2, 3, 4, 5, 6, 7, 8, 9],\n",
       "       [0, 1, 2, 3, 4, 5, 6, 7, 8, 9],\n",
       "       [0, 1, 2, 3, 4, 5, 6, 7, 8, 9]])"
      ]
     },
     "execution_count": 23,
     "metadata": {},
     "output_type": "execute_result"
    }
   ],
   "source": [
    "dummy1"
   ]
  },
  {
   "cell_type": "code",
   "execution_count": 24,
   "metadata": {},
   "outputs": [],
   "source": [
    "dummy1[dummy1==5]=8"
   ]
  },
  {
   "cell_type": "code",
   "execution_count": 25,
   "metadata": {},
   "outputs": [
    {
     "data": {
      "text/plain": [
       "array([[0, 1, 2, 3, 4, 8, 6, 7, 8, 9],\n",
       "       [0, 1, 2, 3, 4, 8, 6, 7, 8, 9],\n",
       "       [0, 1, 2, 3, 4, 8, 6, 7, 8, 9],\n",
       "       [0, 1, 2, 3, 4, 8, 6, 7, 8, 9],\n",
       "       [0, 1, 2, 3, 4, 8, 6, 7, 8, 9],\n",
       "       [0, 1, 2, 3, 4, 8, 6, 7, 8, 9],\n",
       "       [0, 1, 2, 3, 4, 8, 6, 7, 8, 9],\n",
       "       [0, 1, 2, 3, 4, 8, 6, 7, 8, 9],\n",
       "       [0, 1, 2, 3, 4, 8, 6, 7, 8, 9],\n",
       "       [0, 1, 2, 3, 4, 8, 6, 7, 8, 9]])"
      ]
     },
     "execution_count": 25,
     "metadata": {},
     "output_type": "execute_result"
    }
   ],
   "source": [
    "dummy1"
   ]
  },
  {
   "cell_type": "markdown",
   "metadata": {},
   "source": [
    "# "
   ]
  },
  {
   "cell_type": "code",
   "execution_count": 26,
   "metadata": {},
   "outputs": [],
   "source": [
    "R = dummy1\n",
    "nms_size = 3"
   ]
  },
  {
   "cell_type": "code",
   "execution_count": 27,
   "metadata": {},
   "outputs": [],
   "source": [
    "for i in range(R.shape[0]-nms_size):\n",
    "        for j in range(R.shape[1]-nms_size):\n",
    "            dummy = R[i:i+nms_size,j:j+nms_size]\n",
    "            dummy[dummy != np.max(dummy)] = 0"
   ]
  },
  {
   "cell_type": "code",
   "execution_count": 28,
   "metadata": {},
   "outputs": [
    {
     "data": {
      "text/plain": [
       "array([[0, 0, 0, 0, 0, 8, 0, 0, 8, 9],\n",
       "       [0, 0, 0, 0, 0, 8, 0, 0, 8, 9],\n",
       "       [0, 0, 0, 0, 0, 8, 0, 0, 8, 9],\n",
       "       [0, 0, 0, 0, 0, 8, 0, 0, 8, 9],\n",
       "       [0, 0, 0, 0, 0, 8, 0, 0, 8, 9],\n",
       "       [0, 0, 0, 0, 0, 8, 0, 0, 8, 9],\n",
       "       [0, 0, 0, 0, 0, 8, 0, 0, 8, 9],\n",
       "       [0, 0, 0, 0, 0, 8, 0, 0, 8, 9],\n",
       "       [0, 0, 0, 0, 0, 8, 0, 0, 8, 9],\n",
       "       [0, 1, 2, 3, 4, 8, 6, 7, 8, 9]])"
      ]
     },
     "execution_count": 28,
     "metadata": {},
     "output_type": "execute_result"
    }
   ],
   "source": [
    "R"
   ]
  },
  {
   "cell_type": "code",
   "execution_count": null,
   "metadata": {},
   "outputs": [],
   "source": []
  }
 ],
 "metadata": {
  "kernelspec": {
   "display_name": "Python 3",
   "language": "python",
   "name": "python3"
  },
  "language_info": {
   "codemirror_mode": {
    "name": "ipython",
    "version": 3
   },
   "file_extension": ".py",
   "mimetype": "text/x-python",
   "name": "python",
   "nbconvert_exporter": "python",
   "pygments_lexer": "ipython3",
   "version": "3.8.5"
  }
 },
 "nbformat": 4,
 "nbformat_minor": 4
}
